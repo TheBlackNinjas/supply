{
 "cells": [
  {
   "cell_type": "code",
   "execution_count": null,
   "id": "initial_id",
   "metadata": {
    "collapsed": true,
    "is_executing": true
   },
   "outputs": [],
   "source": [
    "import csv\n",
    "import pandas as pd\n",
    "nom_fichier = \"exécution.csv\"\n",
    "dataframe = pd.read_csv(nom_fichier)\n",
    "if \" Warehouse Order Fulfillment (days) \" in dataframe.columns:\n",
    "    dataframe[\" Warehouse Order Fulfillment (days) \"] = dataframe[\" Warehouse Order Fulfillment (days) \"].astype(str)\n",
    "    dataframe[\" Warehouse Order Fulfillment (days) \"] = dataframe[\" Warehouse Order Fulfillment (days) \"].str.replace('.', ',')\n",
    "    nom_fichier_modifie = \"exécution.csv\"\n",
    "    dataframe.to_csv(nom_fichier_modifie, index=False)\n",
    "    print(f\"Le fichier modifié a été enregistré sous '{nom_fichier_modifie}'.\")\n",
    "else:\n",
    "    print(\"La colonne 'Warehouse Order Fulfillment' n'a pas été trouvée dans le fichier \"+ nom_fichier +\".\")\n",
    "\n",
    "with open(nom_fichier, 'r') as fichier_csv:\n",
    "    lecteur_csv = csv.reader(fichier_csv)\n",
    "    for ligne in lecteur_csv :\n",
    "        print(ligne)"
   ]
  },
  {
   "cell_type": "code",
   "execution_count": null,
   "outputs": [],
   "source": [
    "nom_fichier = \"order_shipment.csv\"\n",
    "dataframe = pd.read_csv(nom_fichier)\n",
    "if \" Customer ID \" in dataframe.columns:\n",
    "    dataframe[\" Customer ID \"] = dataframe[\" Customer ID \"].astype(str)\n",
    "    nom_fichier_modifie = \"order_shipment.csv\"\n",
    "    dataframe.to_csv(nom_fichier_modifie, index=False)\n",
    "print(dataframe[\" Customer ID \"].dtypes)"
   ],
   "metadata": {
    "collapsed": false
   },
   "id": "3581774137a136d7"
  },
  {
   "cell_type": "code",
   "execution_count": null,
   "outputs": [],
   "source": [
    "nom_fichier = \"order_shipment.csv\"\n",
    "dataframe = pd.read_csv(nom_fichier)\n",
    "dataframe['date_order'] = pd.to_datetime(dataframe[[' Order Year ', ' Order Month ', ' Order Day ']].astype(str).agg('-'.join, axis=1), format='%Y-%m-%d')\n",
    "dataframe['date_order'] = dataframe['date_order'].dt.strftime('%d/%m/%Y')\n",
    "print(dataframe)\n",
    "nom_fichier_modifie = \"order_shipment.csv\"\n",
    "dataframe.to_csv(nom_fichier_modifie, index=False)"
   ],
   "metadata": {
    "collapsed": false
   },
   "id": "d2cd67912a4b9e9e"
  },
  {
   "cell_type": "code",
   "execution_count": null,
   "outputs": [],
   "source": [
    "nom_fichier = \"order_shipment.csv\"\n",
    "dataframe = pd.read_csv(nom_fichier)\n",
    "dataframe['date_ship'] = pd.to_datetime(dataframe[['Shipment Year', 'Shipment Month', 'Shipment Day']].astype(str).agg('-'.join, axis=1), format='%Y-%m-%d')\n",
    "dataframe['date_ship'] = dataframe['date_ship'].dt.strftime('%d/%m/%Y')\n",
    "print(dataframe)\n",
    "nom_fichier_modifie = \"order_shipment.csv\"\n",
    "dataframe.to_csv(nom_fichier_modifie, index=False)"
   ],
   "metadata": {
    "collapsed": false
   },
   "id": "a7a4c4e5a0c74069"
  },
  {
   "cell_type": "code",
   "execution_count": null,
   "outputs": [],
   "source": [
    "nom_fichier = \"order_shipment.csv\"\n",
    "dataframe = pd.read_csv(nom_fichier)\n",
    "dataframe['date_order'] = pd.to_datetime(dataframe['date_order'])\n",
    "date_counts = dataframe.groupby('Order ID ')['date_order'].nunique()\n",
    "order_ids_with_two_dates = date_counts[date_counts == 2].index\n",
    "print(order_ids_with_two_dates)\n",
    "print(len(order_ids_with_two_dates))\n",
    "\n",
    "\n",
    "import csv\n",
    "from collections import defaultdict\n",
    "\n",
    "\n",
    "data = []\n",
    "a=0\n",
    "with open('order_shipment.csv', newline='') as csvfile:\n",
    "    reader = csv.DictReader(csvfile)\n",
    "    for row in reader:\n",
    "        data.append(row)\n",
    "\n",
    "order_id_dict = defaultdict(list)\n",
    "\n",
    "for row in data:\n",
    "    order_id = row['Order ID ']\n",
    "    order_date = row['date_order']\n",
    "    order_id_dict[order_id].append(order_date)\n",
    "\n",
    "for order_id, dates in order_id_dict.items():\n",
    "    if len(dates) > 1:\n",
    "        if len(set(dates)) > 1:\n",
    "            print(f\"L'Order ID {order_id} a des commandes à des dates différentes : {', '.join(dates)}\")\n",
    "            a = a+1\n",
    "print(a)\n"
   ],
   "metadata": {
    "collapsed": false
   },
   "id": "96390a08561f25bd"
  },
  {
   "cell_type": "code",
   "execution_count": null,
   "outputs": [],
   "source": [
    "df =pd.read_csv('order_shipment.csv')\n",
    "df = df.loc[df.groupby('Order ID ')['date_order'].idxmin()]\n",
    "print(df)\n",
    "print(len(df))\n",
    "nom_fichier_modifie = \"order_shipment.csv\"\n",
    "df.to_csv(nom_fichier_modifie, index=False)"
   ],
   "metadata": {
    "collapsed": false
   },
   "id": "a44c698de82bf585"
  },
  {
   "cell_type": "code",
   "execution_count": null,
   "outputs": [],
   "source": [
    "nom_fichier = \"inventaire.csv\"\n",
    "dataframe = pd.read_csv(nom_fichier)\n",
    "dataframe['Cout d_inventaire par nombre d_inventaire'] = dataframe[' Warehouse Inventory '] * dataframe['Inventory Cost Per Unit']\n",
    "print(dataframe)"
   ],
   "metadata": {
    "collapsed": false
   },
   "id": "377c52e6d8553f8f"
  },
  {
   "cell_type": "code",
   "execution_count": null,
   "outputs": [],
   "source": [
    "with open('order_shipment.csv', 'r') as csvfile :\n",
    "    reader = csv.reader(csvfile)\n",
    "\n",
    "    next(reader)\n",
    "\n",
    "    category_count = {}\n",
    "\n",
    "    for row in reader :\n",
    "        category = row[9]\n",
    "\n",
    "        if category in category_count:\n",
    "            category_count[category] +=1\n",
    "        else :\n",
    "            category_count[category] = 1\n",
    "\n",
    "for category, count in category_count.items():\n",
    "    print(f\"Catégorie : {category}, Nombre d'occurrences : {count}\")"
   ],
   "metadata": {
    "collapsed": false
   },
   "id": "944c9ff5a52cba2a"
  },
  {
   "cell_type": "code",
   "execution_count": null,
   "outputs": [],
   "source": [
    "nom_fichier = \"order_shipment.csv\"\n",
    "dataframe = pd.read_csv(nom_fichier)\n",
    "dataframe['date_order'] = pd.to_datetime(dataframe['date_order'])\n",
    "dataframe['date_ship'] = pd.to_datetime(dataframe['date_ship'])\n",
    "dataframe['Temps de traitements Commande-Livraison (Jours)'] = (dataframe['date_ship'] - dataframe['date_order']).dt.days\n",
    "dataframe = dataframe[dataframe['Temps de traitements Commande-Livraison (Jours)'] >= 0]\n",
    "\n",
    "print(dataframe)\n",
    "nom_fichier_modifie = \"order_shipment.csv\"\n",
    "dataframe.to_csv(nom_fichier_modifie, index=False)"
   ],
   "metadata": {
    "collapsed": false
   },
   "id": "591299939cee24c2"
  }
 ],
 "metadata": {
  "kernelspec": {
   "display_name": "Python 3",
   "language": "python",
   "name": "python3"
  },
  "language_info": {
   "codemirror_mode": {
    "name": "ipython",
    "version": 2
   },
   "file_extension": ".py",
   "mimetype": "text/x-python",
   "name": "python",
   "nbconvert_exporter": "python",
   "pygments_lexer": "ipython2",
   "version": "2.7.6"
  }
 },
 "nbformat": 4,
 "nbformat_minor": 5
}
